{
  "nbformat": 4,
  "nbformat_minor": 0,
  "metadata": {
    "colab": {
      "provenance": [],
      "gpuType": "T4",
      "collapsed_sections": [
        "bGqMvdiSyM0y",
        "JfqL32RKxtYd",
        "pnVyTlTZxzaw",
        "-aIZpFLvweu5"
      ]
    },
    "kernelspec": {
      "name": "python3",
      "display_name": "Python 3"
    },
    "language_info": {
      "name": "python"
    },
    "accelerator": "GPU"
  },
  "cells": [
    {
      "cell_type": "code",
      "source": [
        "from google.colab import drive\n",
        "drive.mount('/content/drive')"
      ],
      "metadata": {
        "colab": {
          "base_uri": "https://localhost:8080/"
        },
        "id": "NkIgK9x5XN8S",
        "outputId": "b1952a81-0817-4969-8691-74189567622e"
      },
      "execution_count": null,
      "outputs": [
        {
          "output_type": "stream",
          "name": "stdout",
          "text": [
            "Mounted at /content/drive\n"
          ]
        }
      ]
    },
    {
      "cell_type": "code",
      "source": [
        "import pandas as pd\n",
        "from sklearn.model_selection import train_test_split\n",
        "from sklearn.feature_extraction.text import TfidfVectorizer\n",
        "from sklearn.ensemble import RandomForestClassifier\n",
        "from sklearn.model_selection import RandomizedSearchCV\n",
        "from sklearn.metrics import classification_report\n",
        "import numpy as np\n",
        "\n",
        "\n",
        "# Adjust the path to wherever you uploaded/archive.csv in Drive or Colab\n",
        "df = pd.read_csv('/content/drive/MyDrive/content/drive/AI_Human.csv')\n",
        "print(df.shape)\n",
        "print(df.head())\n",
        "\n",
        "n = 10_000\n",
        "\n",
        "# 1) Muestrea 10 000 textos generados por IA\n",
        "ones  = df[df['generated'] == 1.0].sample(n=n, random_state=42)\n",
        "\n",
        "# 2) Muestrea 10 000 textos humanos\n",
        "zeros = df[df['generated'] == 0.0].sample(n=n, random_state=42)\n",
        "\n",
        "# 3. concatenar y mezclar\n",
        "balanced = pd.concat([ones, zeros]) \\\n",
        "               .sample(frac=1, random_state=16) \\\n",
        "               .reset_index(drop=True)\n",
        "\n",
        "print(f\"Balanced dataset shape: {balanced.shape}\")\n",
        "\n",
        "# (Optional) Basic cleaning\n",
        "balanced['text'] = balanced['text'].str.replace(r'\\s+', ' ', regex=True).str.strip()\n",
        "\n",
        "# Train/test split (80/10/10)\n",
        "train_df, temp_df = train_test_split(balanced, test_size=0.2, random_state=16, stratify=balanced['generated'])\n",
        "val_df, test_df  = train_test_split(temp_df, test_size=0.5, random_state=16, stratify=temp_df['generated'])\n",
        "\n",
        "print(f\"Test set shape: {test_df.shape}\")\n",
        "\n",
        "# 1. Vectorize\n",
        "vectorizer = TfidfVectorizer(max_features=50_000, ngram_range=(1,2))\n",
        "X_train = vectorizer.fit_transform(train_df['text'])\n",
        "X_val   = vectorizer.transform(val_df['text'])\n",
        "X_test  = vectorizer.transform(test_df['text'])\n",
        "\n",
        "# 2. Define the Random Forest and the search space\n",
        "rf = RandomForestClassifier(random_state=42, n_jobs=-1)\n",
        "\n",
        "param_dist = {\n",
        "    'n_estimators':      [100, 300, 500],\n",
        "    'max_depth':         [None, 10, 20, 30],\n",
        "    'min_samples_split': [2, 5, 10],\n",
        "    'min_samples_leaf':  [1, 2, 4],\n",
        "    'bootstrap':         [True, False]\n",
        "}\n",
        "\n",
        "# 3. Run a randomized search\n",
        "search = RandomizedSearchCV(\n",
        "    rf,\n",
        "    param_distributions=param_dist,\n",
        "    n_iter=50,              # how many random combinations to try\n",
        "    scoring='f1',           # pick the metric you care about\n",
        "    cv=3,                   # 3-fold cross‐validation\n",
        "    verbose=2,\n",
        "    random_state=42,\n",
        "    n_jobs=-1\n",
        ")\n",
        "\n",
        "search.fit(X_train, train_df['generated'])\n",
        "\n",
        "print(\"Best params:\", search.best_params_)\n",
        "print(\"Best CV score:\", search.best_score_)\n",
        "\n",
        "# 4. Evaluate on validation set\n",
        "best_rf = search.best_estimator_\n",
        "preds = best_rf.predict(X_val)\n",
        "print(classification_report(val_df['generated'], preds))"
      ],
      "metadata": {
        "id": "USCfVARxYkC8",
        "colab": {
          "base_uri": "https://localhost:8080/"
        },
        "outputId": "c1424847-112b-4611-bf34-e6fa58fa3970"
      },
      "execution_count": null,
      "outputs": [
        {
          "output_type": "stream",
          "name": "stdout",
          "text": [
            "(487235, 2)\n",
            "                                                text  generated\n",
            "0  Cars. Cars have been around since they became ...        0.0\n",
            "1  Transportation is a large necessity in most co...        0.0\n",
            "2  \"America's love affair with it's vehicles seem...        0.0\n",
            "3  How often do you ride in a car? Do you drive a...        0.0\n",
            "4  Cars are a wonderful thing. They are perhaps o...        0.0\n",
            "Balanced dataset shape: (20000, 2)\n",
            "Test set shape: (2000, 2)\n",
            "Fitting 3 folds for each of 50 candidates, totalling 150 fits\n",
            "Best params: {'n_estimators': 300, 'min_samples_split': 5, 'min_samples_leaf': 1, 'max_depth': None, 'bootstrap': False}\n",
            "Best CV score: 0.9822165805046668\n",
            "              precision    recall  f1-score   support\n",
            "\n",
            "         0.0       0.98      0.99      0.99      1000\n",
            "         1.0       0.99      0.98      0.99      1000\n",
            "\n",
            "    accuracy                           0.99      2000\n",
            "   macro avg       0.99      0.99      0.99      2000\n",
            "weighted avg       0.99      0.99      0.99      2000\n",
            "\n"
          ]
        }
      ]
    },
    {
      "cell_type": "code",
      "source": [
        "import joblib\n",
        "\n",
        "joblib.dump(best_rf,  'rf_best_model.joblib')\n",
        "joblib.dump(vectorizer, 'tfidf_vectorizer.joblib')\n",
        "\n",
        "print(\"Model and vectorizer saved to disk.\")"
      ],
      "metadata": {
        "id": "z8uHVql0bNm6",
        "colab": {
          "base_uri": "https://localhost:8080/"
        },
        "outputId": "26018048-6104-4c1a-c8a2-7ee1773d93d4"
      },
      "execution_count": null,
      "outputs": [
        {
          "output_type": "stream",
          "name": "stdout",
          "text": [
            "Model and vectorizer saved to disk.\n"
          ]
        }
      ]
    },
    {
      "cell_type": "markdown",
      "source": [
        "# Predicción del modelo sobre nuevos textos"
      ],
      "metadata": {
        "id": "bGqMvdiSyM0y"
      }
    },
    {
      "cell_type": "code",
      "source": [
        "text1 = [\n",
        "    \"\"\"The use of this technology to great the emotional expressions of students in a classroom\n",
        "    is valuable because it involves anything to communicate. The quote says, \"The process begins\n",
        "    when the computer constructs a 3D computer motel of the face.\"\"\"\n",
        "]\n",
        "\n",
        "text1_vec = vectorizer.transform(text1)\n",
        "preds = best_rf.predict(text1_vec)\n",
        "print(f\"Predicción: {preds[0]} (0 = humano, 1 = IA)\")"
      ],
      "metadata": {
        "id": "WWa_dWxT58ya",
        "colab": {
          "base_uri": "https://localhost:8080/"
        },
        "outputId": "75a0f00d-4c33-41c0-e154-b3e4fd6e973e"
      },
      "execution_count": null,
      "outputs": [
        {
          "output_type": "stream",
          "name": "stdout",
          "text": [
            "Predicción: 0.0 (0 = humano, 1 = IA)\n"
          ]
        }
      ]
    },
    {
      "cell_type": "code",
      "source": [
        "text2 = pd.Series(\"In a sentence if we are going to use all 3 pronouns. Should it be or something else\")\n",
        "text2_vec = vectorizer.transform(text2)\n",
        "preds = best_rf.predict(text2_vec)\n",
        "print(f\"Predicción: {preds[0]} (0 = humano, 1 = IA)\")"
      ],
      "metadata": {
        "id": "kWjcbvD98BVw",
        "colab": {
          "base_uri": "https://localhost:8080/"
        },
        "outputId": "526aceae-d50b-46c1-8fa6-f288b91ce522"
      },
      "execution_count": null,
      "outputs": [
        {
          "output_type": "stream",
          "name": "stdout",
          "text": [
            "Predicción: 1.0 (0 = humano, 1 = IA)\n"
          ]
        }
      ]
    },
    {
      "cell_type": "markdown",
      "source": [
        "# Distribución de textos en el dataset original"
      ],
      "metadata": {
        "id": "JfqL32RKxtYd"
      }
    },
    {
      "cell_type": "code",
      "source": [
        "total = df.shape[0]\n",
        "ai_count = df[df['generated'] == 1].shape[0]\n",
        "human_count = df[df['generated'] == 0].shape[0]\n",
        "porcentaje_ia = ai_count * 100 / total\n",
        "print(f\"Porcentaje de textos generados por IA: {porcentaje_ia:.2f}%\")\n",
        "porcentaje_human = human_count * 100 / total\n",
        "print(f\"Porcentaje de textos escritos por humanos: {porcentaje_human:.2f}%\")"
      ],
      "metadata": {
        "id": "l6feV0Ao-m3Y",
        "colab": {
          "base_uri": "https://localhost:8080/"
        },
        "outputId": "4b2a5dae-9c96-4bb0-8c11-020c3d6b2340"
      },
      "execution_count": null,
      "outputs": [
        {
          "output_type": "stream",
          "name": "stdout",
          "text": [
            "Porcentaje de textos generados por IA: 37.24%\n",
            "Porcentaje de textos escritos por humanos: 62.76%\n"
          ]
        }
      ]
    },
    {
      "cell_type": "markdown",
      "source": [
        "# Distribución de textos en el conjunto de entrenamiento (train_df)"
      ],
      "metadata": {
        "id": "pnVyTlTZxzaw"
      }
    },
    {
      "cell_type": "code",
      "source": [
        "total = train_df.shape[0]\n",
        "ai_count = train_df[train_df['generated'] == 1].shape[0]\n",
        "human_count = train_df[train_df['generated'] == 0].shape[0]\n",
        "porcentaje_ia = ai_count * 100 / total\n",
        "print(f\"Porcentaje de textos generados por IA: {porcentaje_ia:.2f}%\")\n",
        "porcentaje_human = human_count * 100 / total\n",
        "print(f\"Porcentaje de textos escritos por humanos: {porcentaje_human:.2f}%\")"
      ],
      "metadata": {
        "id": "VKDxy-k0AdBS",
        "colab": {
          "base_uri": "https://localhost:8080/"
        },
        "outputId": "d0895f59-4fab-478f-cd4a-88fdd3349b4d"
      },
      "execution_count": null,
      "outputs": [
        {
          "output_type": "stream",
          "name": "stdout",
          "text": [
            "Porcentaje de textos generados por IA: 50.00%\n",
            "Porcentaje de textos escritos por humanos: 50.00%\n"
          ]
        }
      ]
    },
    {
      "cell_type": "markdown",
      "source": [
        "# Evaluación sobre el set de test"
      ],
      "metadata": {
        "id": "-aIZpFLvweu5"
      }
    },
    {
      "cell_type": "code",
      "source": [
        "test_preds = best_rf.predict(X_test)\n",
        "# Calculate and display test set performance\n",
        "from sklearn.metrics import classification_report, accuracy_score, confusion_matrix\n",
        "import matplotlib.pyplot as plt\n",
        "import seaborn as sns\n",
        "from sklearn.metrics import confusion_matrix\n",
        "\n",
        "print(f\"Precisión: {accuracy_score(test_df['generated'], test_preds):.4f}\")\n",
        "print(\"Reporte de clasificación:\")\n",
        "print(classification_report(test_df['generated'], test_preds))"
      ],
      "metadata": {
        "id": "qosjFUSkVwFX",
        "colab": {
          "base_uri": "https://localhost:8080/"
        },
        "outputId": "6b16be9e-7a3e-4531-c686-a358e1209218"
      },
      "execution_count": null,
      "outputs": [
        {
          "output_type": "stream",
          "name": "stdout",
          "text": [
            "Precisión: 0.9870\n",
            "Reporte de clasificación:\n",
            "              precision    recall  f1-score   support\n",
            "\n",
            "         0.0       0.98      0.99      0.99      1000\n",
            "         1.0       0.99      0.98      0.99      1000\n",
            "\n",
            "    accuracy                           0.99      2000\n",
            "   macro avg       0.99      0.99      0.99      2000\n",
            "weighted avg       0.99      0.99      0.99      2000\n",
            "\n"
          ]
        }
      ]
    },
    {
      "cell_type": "code",
      "source": [
        "# Generar la matriz\n",
        "cm = confusion_matrix(test_df['generated'], test_preds)\n",
        "\n",
        "# Dibujar el gráfico\n",
        "plt.figure(figsize=(6, 4))\n",
        "sns.heatmap(cm, annot=True, fmt='d', cmap='Blues', xticklabels=['Humano (0)', 'IA (1)'], yticklabels=['Humano (0)', 'IA (1)'])\n",
        "plt.xlabel('Predicción')\n",
        "plt.ylabel('Valor real')\n",
        "plt.title('Matriz de Confusión')\n",
        "plt.show()"
      ],
      "metadata": {
        "colab": {
          "base_uri": "https://localhost:8080/",
          "height": 410
        },
        "id": "vJau-PTRw6KT",
        "outputId": "527d6508-a6fa-4bf2-a1f6-dd4cc79d2a15"
      },
      "execution_count": null,
      "outputs": [
        {
          "output_type": "display_data",
          "data": {
            "text/plain": [
              "<Figure size 600x400 with 2 Axes>"
            ],
            "image/png": "[encoded data removed]"
          },
          "metadata": {}
        }
      ]
    },
    {
      "cell_type": "markdown",
      "source": [
        "# Predicciones de ejemplo sobre el set de test"
      ],
      "metadata": {
        "id": "z1Mz5Hd5wRoe"
      }
    },
    {
      "cell_type": "code",
      "source": [
        "# Show first 50 examples\n",
        "for i in range(min(50, len(test_df))):\n",
        "    actual = test_df.iloc[i]['generated']\n",
        "    predicted = test_preds[i]\n",
        "    text_sample = test_df.iloc[i]['text'][:100] + \"...\" if len(test_df.iloc[i]['text']) > 100 else test_df.iloc[i]['text']\n",
        "\n",
        "    status = \"✓\" if actual == predicted else \"✗\"\n",
        "    print(f\"{status} Actual: {actual} | Predicted: {predicted} | Text: {text_sample}\")"
      ],
      "metadata": {
        "colab": {
          "base_uri": "https://localhost:8080/"
        },
        "id": "-oLKKAEEwWmy",
        "outputId": "3774195a-7272-4151-a7f6-b78dd1006cf8"
      },
      "execution_count": null,
      "outputs": [
        {
          "output_type": "stream",
          "name": "stdout",
          "text": [
            "✓ Actual: 0.0 | Predicted: 0.0 | Text: I think You should choose police one because the student aren't going to like it and cause problems ...\n",
            "✓ Actual: 0.0 | Predicted: 0.0 | Text: Some advantages of limiting car usage is definitely that it would help not polite the air. With so m...\n",
            "✓ Actual: 0.0 | Predicted: 0.0 | Text: If I were to choose between keeping the electoral college or abolishing it, I would chose for abolis...\n",
            "✓ Actual: 1.0 | Predicted: 1.0 | Text: The increasing focus on reducing greenhouse gas emissions and the negative impact of car usage on th...\n",
            "✓ Actual: 1.0 | Predicted: 1.0 | Text: Seeking multiple opinions is a crucial aspect of making informed decisions. It allows individuals to...\n",
            "✓ Actual: 0.0 | Predicted: 0.0 | Text: Dear TEACHER_NAME , I think cell phones should be allowed at school and to used only during free per...\n",
            "✓ Actual: 0.0 | Predicted: 0.0 | Text: I write this to the Senator of Florida. Every four year a president ix elected to become what ix the...\n",
            "✓ Actual: 0.0 | Predicted: 0.0 | Text: Should we have an elector college voting systems or switch up to Popular voting system? F think we s...\n",
            "✓ Actual: 0.0 | Predicted: 0.0 | Text: Some people would say that it is the heavy cost of a social Life to take classes online instead of g...\n",
            "✓ Actual: 0.0 | Predicted: 0.0 | Text: The claim is about other people that be hiding their emotions and the new software can developed acc...\n",
            "✓ Actual: 0.0 | Predicted: 0.0 | Text: Cars are a very good tool for getting from one location to the next, but the gas and diesel that pow...\n",
            "✓ Actual: 1.0 | Predicted: 1.0 | Text: Single use plastics have become a Major issue in our world today. They are convenient, but they are ...\n",
            "✓ Actual: 1.0 | Predicted: 1.0 | Text: While driverless cars present many promising benefits, I believe serious concerns remain about their...\n",
            "✓ Actual: 0.0 | Predicted: 0.0 | Text: There are people who are not happy with the career path they took. People weighed that they could ha...\n",
            "✓ Actual: 1.0 | Predicted: 1.0 | Text: Many schools now offer internship and shadowing opportunities to help students discover certain occu...\n",
            "✓ Actual: 0.0 | Predicted: 0.0 | Text: Having the ability to have a car that drives itself could save a lot of lives on collisions. The rea...\n",
            "✓ Actual: 1.0 | Predicted: 1.0 | Text: In the past two decades, the world has seen a dramatic shift in the way people get around. From the ...\n",
            "✓ Actual: 0.0 | Predicted: 0.0 | Text: About 25 years ago, data saw a \"face\" like figure on Mars. It was obvious that it was a large rock f...\n",
            "✓ Actual: 0.0 | Predicted: 0.0 | Text: In the artilce \"The Challenge of Exploring Venus\" the writer presents the idea that though explorati...\n",
            "✓ Actual: 1.0 | Predicted: 1.0 | Text: Title: Exploring Venus Venus is the second planet from the sun and is often referred to as Earth's \"...\n",
            "✓ Actual: 0.0 | Predicted: 0.0 | Text: Dear, Senator I am a concerned voter that believes you should represent the people of year party and...\n",
            "✓ Actual: 1.0 | Predicted: 1.0 | Text: Microsoft is a software and technology giant that offers a range of products and software. Examples ...\n",
            "✓ Actual: 1.0 | Predicted: 1.0 | Text: Sure, here'w my attempt at writing an Elway aw an average 8th grade student: Working in group in way...\n",
            "✓ Actual: 1.0 | Predicted: 1.0 | Text: Sure, here's my attempt at writing an essay as an 8th grade student on why Pakistan is an excellent ...\n",
            "✓ Actual: 1.0 | Predicted: 1.0 | Text: I believe that dress codes are beneficial to the school environment. One of the pain reasons why I s...\n",
            "✓ Actual: 1.0 | Predicted: 1.0 | Text: In the past few years, social media has become a huge part of our lives. With platforms like Faceboo...\n",
            "✓ Actual: 1.0 | Predicted: 1.0 | Text: The passage set highlights the advantages of Visiting car usage in urban areas. The passage set incl...\n",
            "✓ Actual: 0.0 | Predicted: 0.0 | Text: Using your Phone and Driving As people may know EAE driving and using your phone isn'tE safe, and yo...\n",
            "✓ Actual: 0.0 | Predicted: 0.0 | Text: Imagine you are in school, and you had to sit an room with four walls. Moreover, you had a frustrati...\n",
            "✓ Actual: 1.0 | Predicted: 1.0 | Text: To fully address the inquiry about whether the electoral college works, let us first delve into its ...\n",
            "✓ Actual: 1.0 | Predicted: 1.0 | Text: The Facial Action Coding System (FACS) is a widely used method for analyzing and categorizing facial...\n",
            "✓ Actual: 1.0 | Predicted: 1.0 | Text: The Facial Action Coding System (FACS) is a groundbreaking innovation that has the potential to revo...\n",
            "✓ Actual: 0.0 | Predicted: 0.0 | Text: Cars come in different colors, and are what we use to transport anything. Whether it is a Family goi...\n",
            "✓ Actual: 0.0 | Predicted: 0.0 | Text: Dear TEACHER_NAME I don't think you should make community service mandatory. There are a few reasons...\n",
            "✓ Actual: 1.0 | Predicted: 1.0 | Text: In the future, I aspire to become a proficient guitarist and learn from others. The guitar is a beau...\n",
            "✓ Actual: 1.0 | Predicted: 1.0 | Text: When you first meet a person, it is important to have a positive attitude towards them so that they ...\n",
            "✓ Actual: 1.0 | Predicted: 1.0 | Text: Extending the school day is a controversial issue that has split opinions among educators, parents, ...\n",
            "✓ Actual: 0.0 | Predicted: 0.0 | Text: Cellphones And Driving In out modern day Society, cell phones ate everywhere. We use them in all asp...\n",
            "✓ Actual: 0.0 | Predicted: 0.0 | Text: Dear principal: I think the principal should make the students do community work so the can help out...\n",
            "✓ Actual: 0.0 | Predicted: 0.0 | Text: Would you feel safe knowing fag you were hugging your life Ingo a computer's \"hands\"? There are many...\n",
            "✓ Actual: 0.0 | Predicted: 0.0 | Text: The author suggests that studying Venus is a worthy pursuit despite the danger. Throughout the artic...\n",
            "✓ Actual: 0.0 | Predicted: 0.0 | Text: When we vote for our next president, do you have a voice? When you vote, you pick an \"electoral coll...\n",
            "✓ Actual: 0.0 | Predicted: 0.0 | Text: For many years, the automobile has become and remained a staple in the world as humanity's most popu...\n",
            "✓ Actual: 0.0 | Predicted: 0.0 | Text: Aaining vast information and knowledge on the planet of Venus would be worth the dangers it pour tre...\n",
            "✓ Actual: 0.0 | Predicted: 0.0 | Text: The Face on Mars were just made from natural landforms. In my opinion I don't really believe in alie...\n",
            "✓ Actual: 0.0 | Predicted: 0.0 | Text: Dear Principal, P think we should go with Policy 1. Pt says that students should bring phones to sch...\n",
            "✓ Actual: 0.0 | Predicted: 0.0 | Text: In most student's summer, they learn different things from their break, such as work experience, new...\n",
            "✓ Actual: 1.0 | Predicted: 1.0 | Text: Education is often considered the backbone of a successful career and a fulfilling life. Whether edu...\n",
            "✓ Actual: 0.0 | Predicted: 0.0 | Text: Hars can be a good thing or a bad thing. They're good IZ the way that they help you get from point F...\n",
            "✓ Actual: 0.0 | Predicted: 0.0 | Text: Humans have been curious about what is out beyond the sky for a long time. From ancient Greek and Ro...\n"
          ]
        }
      ]
    },
    {
      "cell_type": "markdown",
      "source": [
        "# Ejemplos"
      ],
      "metadata": {
        "id": "ioA0FXYHAjFw"
      }
    },
    {
      "cell_type": "code",
      "source": [
        "import joblib\n",
        "\n",
        "# Cargar el modelo entrenado\n",
        "modelo = joblib.load('/content/drive/MyDrive/aprendizajeAutomatico/rf_best_model.joblib')\n",
        "\n",
        "# Cargar el vectorizador TF-IDF\n",
        "vectorizador = joblib.load('/content/drive/MyDrive/aprendizajeAutomatico/tfidf_vectorizer.joblib')\n"
      ],
      "metadata": {
        "id": "HXALowWRWU6p"
      },
      "execution_count": null,
      "outputs": []
    },
    {
      "cell_type": "markdown",
      "source": [
        "### Ejemplos hechos por humanos"
      ],
      "metadata": {
        "id": "x-dX6blHAcJD"
      }
    },
    {
      "cell_type": "code",
      "source": [
        "new_text = [\n",
        "    \"I read a post on Askreddit that inquired, “what are some completely legal things that make you a terrible human being.” Among the top comments were answers like, standing in the middle of an aisle, not flushing the toilet, or not putting things back where you found them in the grocery store. All these comments had 5 digit upvotes. Are these things somewhat inconsiderate and annoying? Yes. Do they make you a terrible person? No. I feel like these people who view these actions as “terrible” are just looking for any way to feel validated in their perceived moral superiority by barely doing anything at all. They think “I don’t stand in people’s way, I flush the toilet, I put grocery items back where I found them, I’m a good person and other people are bad”. It honestly feels somewhat masturbatory. I think you can do inconsiderate things and even have committed crimes and still be a good person, if you were perfect you wouldn’t be human. I can pick apart someone’s every action and try to place them neatly into the categories of “good” and “bad” but it probably wouldn’t make me any better as a person.\"\n",
        "]\n",
        "text1_vec = vectorizador.transform(new_text)\n",
        "preds = modelo.predict(text1_vec)\n",
        "print(f\"Predicción: {preds[0]} (0 = humano, 1 = IA)\")"
      ],
      "metadata": {
        "colab": {
          "base_uri": "https://localhost:8080/"
        },
        "id": "Z5bMXX-GzW3y",
        "outputId": "4e31564e-e7f4-4db8-926f-ffede15663c5"
      },
      "execution_count": null,
      "outputs": [
        {
          "output_type": "stream",
          "name": "stdout",
          "text": [
            "Predicción: 0.0 (0 = humano, 1 = IA)\n"
          ]
        }
      ]
    },
    {
      "cell_type": "code",
      "source": [
        "\n",
        "new_text = [\n",
        "    \"\"\"The use of this technology to create the emotional expressions of students in a classroom\n",
        "    is valuable because it enables communication. The quote says, \"The process begins\n",
        "    when the computer constructs a 3D computer model of the face.\"\"\"\n",
        "]\n",
        "\n",
        "text1_vec = vectorizador.transform(new_text)\n",
        "preds = modelo.predict(text1_vec)\n",
        "print(f\"Predicción: {preds[0]} (0 = humano, 1 = IA)\")\n"
      ],
      "metadata": {
        "colab": {
          "base_uri": "https://localhost:8080/"
        },
        "id": "4WL2QFDUzaaa",
        "outputId": "afa83dc7-03f1-4aef-8c57-da4fa522c7a9"
      },
      "execution_count": null,
      "outputs": [
        {
          "output_type": "stream",
          "name": "stdout",
          "text": [
            "Predicción: 0.0 (0 = humano, 1 = IA)\n"
          ]
        }
      ]
    },
    {
      "cell_type": "code",
      "source": [
        "new_text = [\n",
        "    \"I used to rent, so I always used a TV stand. No mess, no stress. But when I finally bought my own place, I figured it was time to do it right and wall-mount the TV. That lasted about two weeks. The height felt off, I couldnt adjust anything without unbolting the whole thing, and dont even get me started on the cable situation. It looked good for about five minutes, then just became a pain. Ended up going back and re-ordering the same fitueyes tv stand I had in my rental. I had left it behind for the next tenant because I thought Id moved on from that phase. Turns out I hadnt. Sometimes the simple option is just... better. Now Im sitting here wondering why wall mounting became the “default” when its such a pain to do right and almost impossible to undo. Feels like we all just accepted it because it looks nice on Instagram. (even though the tv stand can looks nice too?)\"\n",
        "]\n",
        "\n",
        "text1_vec = vectorizador.transform(new_text)\n",
        "preds = modelo.predict(text1_vec)\n",
        "print(f\"Predicción: {preds[0]} (0 = humano, 1 = IA)\")\n"
      ],
      "metadata": {
        "colab": {
          "base_uri": "https://localhost:8080/"
        },
        "id": "uPwvltggBG92",
        "outputId": "e13ee368-b2a6-4bac-f6ce-76676e6d8f9d"
      },
      "execution_count": null,
      "outputs": [
        {
          "output_type": "stream",
          "name": "stdout",
          "text": [
            "Predicción: 0.0 (0 = humano, 1 = IA)\n"
          ]
        }
      ]
    },
    {
      "cell_type": "code",
      "source": [
        "new_text = [\n",
        "    \"I dont know why everyone on Reddit whines and cries about carts not being returned at the supermarket. When I was 15 I had a supermarket job. When I was asked to do carts I was ecstatic, got to go outdoors, got to not deal with annoying customers while bagging. Got to chill with the weird 30 y/o produce guy who hung out under the awning smoking, Why would a kid nowadays want to stay indoors and bag or cashier and deal with annoying people? Just go outside and stretch your legs, maybe sneak over to the other stores in the plaza, whatever. Youre giving these kids something fun to do, whats wrong with that?\"\n",
        "]\n",
        "\n",
        "text1_vec = vectorizador.transform(new_text)\n",
        "preds = modelo.predict(text1_vec)\n",
        "print(f\"Predicción: {preds[0]} (0 = humano, 1 = IA)\")"
      ],
      "metadata": {
        "colab": {
          "base_uri": "https://localhost:8080/"
        },
        "id": "e9uXH3EGBtR_",
        "outputId": "bf77030b-0a33-41cd-dfba-547519971646"
      },
      "execution_count": null,
      "outputs": [
        {
          "output_type": "stream",
          "name": "stdout",
          "text": [
            "Predicción: 0.0 (0 = humano, 1 = IA)\n"
          ]
        }
      ]
    },
    {
      "cell_type": "markdown",
      "source": [
        "### Ejemplos hechos por IA"
      ],
      "metadata": {
        "id": "sg5pIlOLAZgE"
      }
    },
    {
      "cell_type": "code",
      "source": [
        "\n",
        "new_text = [\n",
        "    \"In today’s fast-paced and increasingly interconnected global society, the importance of leveraging technological advancements to optimize learning outcomes cannot be overstated. Artificial intelligence, in particular, provides a wide range of opportunities for enhancing educational efficiency, engagement, and accessibility across diverse populations. By integrating adaptive algorithms, data-driven insights, and scalable platforms, institutions can foster a more personalized and inclusive learning environment that aligns with 21st-century skills and evolving industry demands.\"\n",
        "]\n",
        "\n",
        "text1_vec = vectorizador.transform(new_text)\n",
        "preds = modelo.predict(text1_vec)\n",
        "print(f\"Predicción: {preds[0]} (0 = humano, 1 = IA)\")\n"
      ],
      "metadata": {
        "colab": {
          "base_uri": "https://localhost:8080/"
        },
        "id": "UBz0rI7Z_pV4",
        "outputId": "43d84903-350b-405a-e7e0-197e08eae40d"
      },
      "execution_count": null,
      "outputs": [
        {
          "output_type": "stream",
          "name": "stdout",
          "text": [
            "Predicción: 1.0 (0 = humano, 1 = IA)\n"
          ]
        }
      ]
    },
    {
      "cell_type": "code",
      "source": [
        "new_text = [\n",
        "    \"Learning a new language can be both exciting and challenging. Many people find that consistent practice and exposure to real conversations help improve their skills more effectively than just studying grammar rules. Using apps, watching movies, and talking with native speakers are great ways to immerse yourself in the language. Remember, making mistakes is a natural part of the learning process, and patience is key to becoming fluent.\"\n",
        "]\n",
        "text1_vec = vectorizador.transform(new_text)\n",
        "preds = modelo.predict(text1_vec)\n",
        "print(f\"Predicción: {preds[0]} (0 = humano, 1 = IA)\")"
      ],
      "metadata": {
        "colab": {
          "base_uri": "https://localhost:8080/"
        },
        "id": "AW2SqPeMAMXI",
        "outputId": "9316de5f-a961-4b5c-a28d-94af3f055f62"
      },
      "execution_count": null,
      "outputs": [
        {
          "output_type": "stream",
          "name": "stdout",
          "text": [
            "Predicción: 1.0 (0 = humano, 1 = IA)\n"
          ]
        }
      ]
    },
    {
      "cell_type": "code",
      "source": [
        "new_text = [\n",
        "    \"Traveling to new places is an amazing way to broaden your horizons and learn about different cultures. It allows you to meet new people, try unique foods, and experience traditions that you might never encounter otherwise. Whether it's a weekend getaway or a longer trip abroad, every journey has the potential to teach you something valuable and create lasting memories\"\n",
        "]\n",
        "text1_vec = vectorizador.transform(new_text)\n",
        "preds = modelo.predict(text1_vec)\n",
        "print(f\"Predicción: {preds[0]} (0 = humano, 1 = IA)\")"
      ],
      "metadata": {
        "colab": {
          "base_uri": "https://localhost:8080/"
        },
        "id": "DQHA7MoYXZ_l",
        "outputId": "2e59c8dd-9bf2-4196-8b2e-a10017805546"
      },
      "execution_count": null,
      "outputs": [
        {
          "output_type": "stream",
          "name": "stdout",
          "text": [
            "Predicción: 1.0 (0 = humano, 1 = IA)\n"
          ]
        }
      ]
    },
    {
      "cell_type": "code",
      "source": [
        "new_text = [\n",
        "    \"I didn’t expect to enjoy cooking as much as I do now. It started as something I had to do just to get by, but over time, trying out new recipes became something I genuinely look forward to. It’s relaxing, and there’s a small sense of pride when a dish turns out well—especially when someone else enjoys it too.\"\n",
        "]\n",
        "text1_vec = vectorizador.transform(new_text)\n",
        "preds = modelo.predict(text1_vec)\n",
        "print(f\"Predicción: {preds[0]} (0 = humano, 1 = IA)\")"
      ],
      "metadata": {
        "colab": {
          "base_uri": "https://localhost:8080/"
        },
        "id": "vdiu9tnlXmMv",
        "outputId": "7465ff99-19c3-4c1d-ec54-58dd329d562f"
      },
      "execution_count": null,
      "outputs": [
        {
          "output_type": "stream",
          "name": "stdout",
          "text": [
            "Predicción: 1.0 (0 = humano, 1 = IA)\n"
          ]
        }
      ]
    }
  ]
}